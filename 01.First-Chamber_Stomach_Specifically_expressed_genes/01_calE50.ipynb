{
 "cells": [
  {
   "cell_type": "code",
   "execution_count": 1,
   "metadata": {},
   "outputs": [],
   "source": [
    "import numpy as np\n",
    "import pandas as pd\n",
    "import seaborn as sns"
   ]
  },
  {
   "cell_type": "code",
   "execution_count": 2,
   "metadata": {},
   "outputs": [
    {
     "data": {
      "text/html": [
       "<div>\n",
       "<style scoped>\n",
       "    .dataframe tbody tr th:only-of-type {\n",
       "        vertical-align: middle;\n",
       "    }\n",
       "\n",
       "    .dataframe tbody tr th {\n",
       "        vertical-align: top;\n",
       "    }\n",
       "\n",
       "    .dataframe thead th {\n",
       "        text-align: right;\n",
       "    }\n",
       "</style>\n",
       "<table border=\"1\" class=\"dataframe\">\n",
       "  <thead>\n",
       "    <tr style=\"text-align: right;\">\n",
       "      <th></th>\n",
       "      <th>chr</th>\n",
       "      <th>start</th>\n",
       "      <th>end</th>\n",
       "      <th>name</th>\n",
       "      <th>gene</th>\n",
       "      <th>jirou</th>\n",
       "      <th>ganzang</th>\n",
       "      <th>liuwei</th>\n",
       "      <th>zhifang</th>\n",
       "      <th>pifu</th>\n",
       "      <th>...</th>\n",
       "      <th>xiongxian</th>\n",
       "      <th>fugao</th>\n",
       "      <th>gaowan</th>\n",
       "      <th>shuluanguan</th>\n",
       "      <th>zhichang</th>\n",
       "      <th>chengxianweixibao</th>\n",
       "      <th>luanpao</th>\n",
       "      <th>wangmo</th>\n",
       "      <th>huangti</th>\n",
       "      <th>naogan</th>\n",
       "    </tr>\n",
       "  </thead>\n",
       "  <tbody>\n",
       "    <tr>\n",
       "      <th>0</th>\n",
       "      <td>1</td>\n",
       "      <td>49237</td>\n",
       "      <td>54549</td>\n",
       "      <td>LOC106990386</td>\n",
       "      <td>gene0</td>\n",
       "      <td>3.166491</td>\n",
       "      <td>0.093451</td>\n",
       "      <td>1.194797</td>\n",
       "      <td>0.064356</td>\n",
       "      <td>0.745837</td>\n",
       "      <td>...</td>\n",
       "      <td>1.092914</td>\n",
       "      <td>0.361922</td>\n",
       "      <td>0.633466</td>\n",
       "      <td>0.909592</td>\n",
       "      <td>0.000000</td>\n",
       "      <td>0.000000</td>\n",
       "      <td>0.200848</td>\n",
       "      <td>0.000000</td>\n",
       "      <td>0.000000</td>\n",
       "      <td>0.000000</td>\n",
       "    </tr>\n",
       "    <tr>\n",
       "      <th>1</th>\n",
       "      <td>1</td>\n",
       "      <td>257197</td>\n",
       "      <td>267346</td>\n",
       "      <td>BOK</td>\n",
       "      <td>gene10</td>\n",
       "      <td>2.338026</td>\n",
       "      <td>30.374384</td>\n",
       "      <td>13.244110</td>\n",
       "      <td>29.423929</td>\n",
       "      <td>16.284243</td>\n",
       "      <td>...</td>\n",
       "      <td>1.982640</td>\n",
       "      <td>5.087539</td>\n",
       "      <td>0.601536</td>\n",
       "      <td>2.282869</td>\n",
       "      <td>14.781034</td>\n",
       "      <td>2.545257</td>\n",
       "      <td>0.945352</td>\n",
       "      <td>3.015635</td>\n",
       "      <td>0.860556</td>\n",
       "      <td>1.332306</td>\n",
       "    </tr>\n",
       "    <tr>\n",
       "      <th>2</th>\n",
       "      <td>1</td>\n",
       "      <td>7005744</td>\n",
       "      <td>7104355</td>\n",
       "      <td>UGT1A4</td>\n",
       "      <td>gene100</td>\n",
       "      <td>0.064349</td>\n",
       "      <td>80.865318</td>\n",
       "      <td>21.085617</td>\n",
       "      <td>0.269467</td>\n",
       "      <td>0.104789</td>\n",
       "      <td>...</td>\n",
       "      <td>0.091232</td>\n",
       "      <td>2.062925</td>\n",
       "      <td>0.106058</td>\n",
       "      <td>0.027895</td>\n",
       "      <td>6.757673</td>\n",
       "      <td>0.000000</td>\n",
       "      <td>0.000000</td>\n",
       "      <td>0.067705</td>\n",
       "      <td>0.000000</td>\n",
       "      <td>0.178051</td>\n",
       "    </tr>\n",
       "    <tr>\n",
       "      <th>3</th>\n",
       "      <td>1</td>\n",
       "      <td>92935824</td>\n",
       "      <td>92940111</td>\n",
       "      <td>LOC106990460</td>\n",
       "      <td>gene1000</td>\n",
       "      <td>0.358879</td>\n",
       "      <td>1.950747</td>\n",
       "      <td>2.262075</td>\n",
       "      <td>1.452335</td>\n",
       "      <td>1.247646</td>\n",
       "      <td>...</td>\n",
       "      <td>0.862130</td>\n",
       "      <td>2.514859</td>\n",
       "      <td>0.532156</td>\n",
       "      <td>0.917190</td>\n",
       "      <td>1.551993</td>\n",
       "      <td>0.598066</td>\n",
       "      <td>0.484448</td>\n",
       "      <td>0.466799</td>\n",
       "      <td>0.355105</td>\n",
       "      <td>0.495066</td>\n",
       "    </tr>\n",
       "    <tr>\n",
       "      <th>4</th>\n",
       "      <td>5</td>\n",
       "      <td>59178010</td>\n",
       "      <td>59185786</td>\n",
       "      <td>CD74</td>\n",
       "      <td>gene10000</td>\n",
       "      <td>560.250666</td>\n",
       "      <td>2103.083554</td>\n",
       "      <td>322.873678</td>\n",
       "      <td>672.439219</td>\n",
       "      <td>362.631845</td>\n",
       "      <td>...</td>\n",
       "      <td>3298.662450</td>\n",
       "      <td>135.071706</td>\n",
       "      <td>188.940151</td>\n",
       "      <td>300.692606</td>\n",
       "      <td>469.252257</td>\n",
       "      <td>0.028406</td>\n",
       "      <td>55.897533</td>\n",
       "      <td>46.704260</td>\n",
       "      <td>95.656157</td>\n",
       "      <td>56.585218</td>\n",
       "    </tr>\n",
       "  </tbody>\n",
       "</table>\n",
       "<p>5 rows × 55 columns</p>\n",
       "</div>"
      ],
      "text/plain": [
       "  chr     start       end          name       gene       jirou      ganzang  \\\n",
       "0   1     49237     54549  LOC106990386      gene0    3.166491     0.093451   \n",
       "1   1    257197    267346           BOK     gene10    2.338026    30.374384   \n",
       "2   1   7005744   7104355        UGT1A4    gene100    0.064349    80.865318   \n",
       "3   1  92935824  92940111  LOC106990460   gene1000    0.358879     1.950747   \n",
       "4   5  59178010  59185786          CD74  gene10000  560.250666  2103.083554   \n",
       "\n",
       "       liuwei     zhifang        pifu    ...        xiongxian       fugao  \\\n",
       "0    1.194797    0.064356    0.745837    ...         1.092914    0.361922   \n",
       "1   13.244110   29.423929   16.284243    ...         1.982640    5.087539   \n",
       "2   21.085617    0.269467    0.104789    ...         0.091232    2.062925   \n",
       "3    2.262075    1.452335    1.247646    ...         0.862130    2.514859   \n",
       "4  322.873678  672.439219  362.631845    ...      3298.662450  135.071706   \n",
       "\n",
       "       gaowan  shuluanguan    zhichang  chengxianweixibao    luanpao  \\\n",
       "0    0.633466     0.909592    0.000000           0.000000   0.200848   \n",
       "1    0.601536     2.282869   14.781034           2.545257   0.945352   \n",
       "2    0.106058     0.027895    6.757673           0.000000   0.000000   \n",
       "3    0.532156     0.917190    1.551993           0.598066   0.484448   \n",
       "4  188.940151   300.692606  469.252257           0.028406  55.897533   \n",
       "\n",
       "      wangmo    huangti     naogan  \n",
       "0   0.000000   0.000000   0.000000  \n",
       "1   3.015635   0.860556   1.332306  \n",
       "2   0.067705   0.000000   0.178051  \n",
       "3   0.466799   0.355105   0.495066  \n",
       "4  46.704260  95.656157  56.585218  \n",
       "\n",
       "[5 rows x 55 columns]"
      ]
     },
     "execution_count": 2,
     "metadata": {},
     "output_type": "execute_result"
    }
   ],
   "source": [
    "fpkmfile = 'sheep_tissue_FPKM.tsv.gz'\n",
    "df = pd.read_csv(fpkmfile, sep='\\t')\n",
    "df.head()"
   ]
  },
  {
   "cell_type": "code",
   "execution_count": 3,
   "metadata": {},
   "outputs": [],
   "source": [
    "tissues = df.columns[5:]"
   ]
  },
  {
   "cell_type": "code",
   "execution_count": 4,
   "metadata": {},
   "outputs": [],
   "source": [
    "def E50(ay):\n",
    "    ay[ay < 1] = 1\n",
    "    ay = np.log2(ay)\n",
    "    count = 0\n",
    "    suma = np.sum(ay)\n",
    "    haf = suma / 2\n",
    "    tmp = 0\n",
    "    for i in sorted(ay)[::-1]:\n",
    "        tmp += i\n",
    "        count += 1\n",
    "        if tmp >= haf:\n",
    "            return count"
   ]
  },
  {
   "cell_type": "code",
   "execution_count": 5,
   "metadata": {},
   "outputs": [],
   "source": [
    "df['E50'] = df[tissues].apply(E50, axis=1)"
   ]
  },
  {
   "cell_type": "code",
   "execution_count": 6,
   "metadata": {},
   "outputs": [],
   "source": [
    "def cal_order(array: np.array, item):\n",
    "    return 1 + len(array[array > item])"
   ]
  },
  {
   "cell_type": "code",
   "execution_count": 7,
   "metadata": {},
   "outputs": [],
   "source": [
    "ranks = []\n",
    "for row in df[tissues].values:\n",
    "    rank = cal_order(row, row[2])\n",
    "    ranks.append(rank)\n",
    "df['rumen_rank'] = ranks"
   ]
  },
  {
   "cell_type": "code",
   "execution_count": 8,
   "metadata": {},
   "outputs": [
    {
     "data": {
      "text/plain": [
       "<matplotlib.axes._subplots.AxesSubplot at 0x1bc6f78c240>"
      ]
     },
     "execution_count": 8,
     "metadata": {},
     "output_type": "execute_result"
    },
    {
     "data": {
      "image/png": "[encoded data removed]",
      "text/plain": [
       "<Figure size 432x288 with 1 Axes>"
      ]
     },
     "metadata": {
      "needs_background": "light"
     },
     "output_type": "display_data"
    }
   ],
   "source": [
    "sns.distplot(df['E50'], bins=20)"
   ]
  },
  {
   "cell_type": "code",
   "execution_count": 9,
   "metadata": {},
   "outputs": [],
   "source": [
    "df[['E50']].to_csv('sheep_E50.csv', index=False, header=True)"
   ]
  },
  {
   "cell_type": "code",
   "execution_count": 10,
   "metadata": {},
   "outputs": [],
   "source": [
    "mRNAs = {x.strip() for x in open('sheep_mRNA_geneName.list')}\n",
    "df['mRNA'] = 'No'\n",
    "df.loc[df['name'].isin(mRNAs), 'mRNA'] = 'Yes'"
   ]
  },
  {
   "cell_type": "code",
   "execution_count": 11,
   "metadata": {},
   "outputs": [],
   "source": [
    "# E50 cutoff (11) is calculated by 02_E50cutoff.ipynb\n",
    "emRNAgeneIDs = set(df.loc[(df['rumen_rank']<=df['E50']) &\n",
    "                          (df['E50']<=11) &\n",
    "                          (df['liuwei']>=1) &\n",
    "                          (df['mRNA']=='Yes'), 'gene'].values)"
   ]
  },
  {
   "cell_type": "code",
   "execution_count": 12,
   "metadata": {},
   "outputs": [],
   "source": [
    "odf = df.loc[df['gene'].isin(emRNAgeneIDs), :]"
   ]
  },
  {
   "cell_type": "code",
   "execution_count": 13,
   "metadata": {},
   "outputs": [
    {
     "data": {
      "text/plain": [
       "(656, 58)"
      ]
     },
     "execution_count": 13,
     "metadata": {},
     "output_type": "execute_result"
    }
   ],
   "source": [
    "odf.shape"
   ]
  },
  {
   "cell_type": "code",
   "execution_count": null,
   "metadata": {},
   "outputs": [],
   "source": []
  }
 ],
 "metadata": {
  "kernelspec": {
   "display_name": "Python 3",
   "language": "python",
   "name": "python3"
  },
  "language_info": {
   "codemirror_mode": {
    "name": "ipython",
    "version": 3
   },
   "file_extension": ".py",
   "mimetype": "text/x-python",
   "name": "python",
   "nbconvert_exporter": "python",
   "pygments_lexer": "ipython3",
   "version": "3.6.7"
  }
 },
 "nbformat": 4,
 "nbformat_minor": 2
}
