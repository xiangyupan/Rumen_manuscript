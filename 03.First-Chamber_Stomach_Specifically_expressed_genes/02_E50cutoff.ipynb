{
 "cells": [
  {
   "cell_type": "code",
   "execution_count": 1,
   "metadata": {},
   "outputs": [],
   "source": [
    "library(cutoff)"
   ]
  },
  {
   "cell_type": "code",
   "execution_count": 2,
   "metadata": {},
   "outputs": [],
   "source": [
    "data = read.csv('sheep_E50.csv', header = T)"
   ]
  },
  {
   "cell_type": "code",
   "execution_count": 3,
   "metadata": {},
   "outputs": [
    {
     "data": {
      "text/html": [
       "<table>\n",
       "<thead><tr><th scope=col>E50</th></tr></thead>\n",
       "<tbody>\n",
       "\t<tr><td> 4</td></tr>\n",
       "\t<tr><td>15</td></tr>\n",
       "\t<tr><td> 6</td></tr>\n",
       "\t<tr><td>10</td></tr>\n",
       "\t<tr><td>20</td></tr>\n",
       "\t<tr><td>24</td></tr>\n",
       "</tbody>\n",
       "</table>\n"
      ],
      "text/latex": [
       "\\begin{tabular}{r|l}\n",
       " E50\\\\\n",
       "\\hline\n",
       "\t  4\\\\\n",
       "\t 15\\\\\n",
       "\t  6\\\\\n",
       "\t 10\\\\\n",
       "\t 20\\\\\n",
       "\t 24\\\\\n",
       "\\end{tabular}\n"
      ],
      "text/markdown": [
       "\n",
       "E50 | \n",
       "|---|---|---|---|---|---|\n",
       "|  4 | \n",
       "| 15 | \n",
       "|  6 | \n",
       "| 10 | \n",
       "| 20 | \n",
       "| 24 | \n",
       "\n",
       "\n"
      ],
      "text/plain": [
       "  E50\n",
       "1  4 \n",
       "2 15 \n",
       "3  6 \n",
       "4 10 \n",
       "5 20 \n",
       "6 24 "
      ]
     },
     "metadata": {},
     "output_type": "display_data"
    }
   ],
   "source": [
    "head(data)"
   ]
  },
  {
   "cell_type": "code",
   "execution_count": 4,
   "metadata": {},
   "outputs": [
    {
     "ename": "ERROR",
     "evalue": "Error in density.default(data$n50): argument 'x' must be numeric\n",
     "output_type": "error",
     "traceback": [
      "Error in density.default(data$n50): argument 'x' must be numeric\nTraceback:\n",
      "1. lines(density(data$n50), lwd = 1.5, col = \"blue\")",
      "2. density(data$n50)",
      "3. density.default(data$n50)",
      "4. stop(\"argument 'x' must be numeric\")"
     ]
    },
    {
     "data": {
      "image/png": "[encoded data removed]",
      "text/plain": [
       "plot without title"
      ]
     },
     "metadata": {},
     "output_type": "display_data"
    }
   ],
   "source": [
    "hist(data$E50,100,F,xlab=\"E50\",ylab=\"density\",ylim=c(0, .5), main=NULL,col=\"grey\")\n",
    "lines(density(data$n50),lwd=1.5,col=\"blue\")"
   ]
  },
  {
   "cell_type": "code",
   "execution_count": 5,
   "metadata": {},
   "outputs": [],
   "source": [
    "E50_out <- em(data$E50,\"normal\",\"normal\")"
   ]
  },
  {
   "cell_type": "code",
   "execution_count": 6,
   "metadata": {},
   "outputs": [
    {
     "name": "stderr",
     "output_type": "stream",
     "text": [
      "Loading required package: bbmle\n",
      "Loading required package: stats4\n"
     ]
    },
    {
     "data": {
      "text/html": [
       "<table>\n",
       "<thead><tr><th></th><th scope=col>Estimate</th><th scope=col>2.5 %</th><th scope=col>97.5 %</th></tr></thead>\n",
       "<tbody>\n",
       "\t<tr><th scope=row>mu1</th><td> 5.0663659</td><td> 4.9936877</td><td> 5.1394817</td></tr>\n",
       "\t<tr><th scope=row>sigma1</th><td> 3.6635783</td><td> 3.6106879</td><td> 3.7178706</td></tr>\n",
       "\t<tr><th scope=row>mu2</th><td>20.1088659</td><td>20.0517603</td><td>20.1661527</td></tr>\n",
       "\t<tr><th scope=row>sigma2</th><td> 2.9859022</td><td> 2.9432801</td><td> 3.0285070</td></tr>\n",
       "\t<tr><th scope=row>lambda</th><td> 0.4814933</td><td> 0.4750589</td><td> 0.4879278</td></tr>\n",
       "</tbody>\n",
       "</table>\n"
      ],
      "text/latex": [
       "\\begin{tabular}{r|lll}\n",
       "  & Estimate & 2.5 \\% & 97.5 \\%\\\\\n",
       "\\hline\n",
       "\tmu1 &  5.0663659 &  4.9936877 &  5.1394817\\\\\n",
       "\tsigma1 &  3.6635783 &  3.6106879 &  3.7178706\\\\\n",
       "\tmu2 & 20.1088659 & 20.0517603 & 20.1661527\\\\\n",
       "\tsigma2 &  2.9859022 &  2.9432801 &  3.0285070\\\\\n",
       "\tlambda &  0.4814933 &  0.4750589 &  0.4879278\\\\\n",
       "\\end{tabular}\n"
      ],
      "text/markdown": [
       "\n",
       "| <!--/--> | Estimate | 2.5 % | 97.5 % | \n",
       "|---|---|---|---|---|\n",
       "| mu1 |  5.0663659 |  4.9936877 |  5.1394817 | \n",
       "| sigma1 |  3.6635783 |  3.6106879 |  3.7178706 | \n",
       "| mu2 | 20.1088659 | 20.0517603 | 20.1661527 | \n",
       "| sigma2 |  2.9859022 |  2.9432801 |  3.0285070 | \n",
       "| lambda |  0.4814933 |  0.4750589 |  0.4879278 | \n",
       "\n",
       "\n"
      ],
      "text/plain": [
       "       Estimate   2.5 %      97.5 %    \n",
       "mu1     5.0663659  4.9936877  5.1394817\n",
       "sigma1  3.6635783  3.6106879  3.7178706\n",
       "mu2    20.1088659 20.0517603 20.1661527\n",
       "sigma2  2.9859022  2.9432801  3.0285070\n",
       "lambda  0.4814933  0.4750589  0.4879278"
      ]
     },
     "metadata": {},
     "output_type": "display_data"
    }
   ],
   "source": [
    "confint(E50_out,nb=100,level=.95)"
   ]
  },
  {
   "cell_type": "code",
   "execution_count": 7,
   "metadata": {},
   "outputs": [
    {
     "data": {
      "text/html": [
       "<dl class=dl-horizontal>\n",
       "\t<dt>Estimate</dt>\n",
       "\t\t<dd>11.0412546708673</dd>\n",
       "\t<dt>2.5 %</dt>\n",
       "\t\t<dd>11.0251399452326</dd>\n",
       "\t<dt>97.5 %</dt>\n",
       "\t\t<dd>11.0573693965021</dd>\n",
       "</dl>\n"
      ],
      "text/latex": [
       "\\begin{description*}\n",
       "\\item[Estimate] 11.0412546708673\n",
       "\\item[2.5 \\textbackslash{}\\%] 11.0251399452326\n",
       "\\item[97.5 \\textbackslash{}\\%] 11.0573693965021\n",
       "\\end{description*}\n"
      ],
      "text/markdown": [
       "Estimate\n",
       ":   11.04125467086732.5 %\n",
       ":   11.025139945232697.5 %\n",
       ":   11.0573693965021\n",
       "\n"
      ],
      "text/plain": [
       "Estimate    2.5 %   97.5 % \n",
       "11.04125 11.02514 11.05737 "
      ]
     },
     "metadata": {},
     "output_type": "display_data"
    }
   ],
   "source": [
    "cutoff(E50_out, distr = 1, type1=0.05)"
   ]
  },
  {
   "cell_type": "code",
   "execution_count": null,
   "metadata": {},
   "outputs": [],
   "source": []
  }
 ],
 "metadata": {
  "kernelspec": {
   "display_name": "R",
   "language": "R",
   "name": "ir"
  },
  "language_info": {
   "codemirror_mode": "r",
   "file_extension": ".r",
   "mimetype": "text/x-r-source",
   "name": "R",
   "pygments_lexer": "r",
   "version": "3.5.1"
  }
 },
 "nbformat": 4,
 "nbformat_minor": 2
}
